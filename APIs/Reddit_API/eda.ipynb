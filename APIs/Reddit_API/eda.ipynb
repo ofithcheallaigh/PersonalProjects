{
 "cells": [
  {
   "cell_type": "code",
   "execution_count": 1,
   "metadata": {},
   "outputs": [],
   "source": [
    "# %pip install pandas\n",
    "# %pip install matplotlib\n",
    "# %pip install numpy\n"
   ]
  },
  {
   "cell_type": "markdown",
   "metadata": {},
   "source": [
    "Start date: 2022-06-10 19:09:31     \n",
    "End date: 2022-06-08 21:05:19"
   ]
  },
  {
   "cell_type": "code",
   "execution_count": 2,
   "metadata": {},
   "outputs": [],
   "source": [
    "import pandas as pd\n",
    "import matplotlib.pyplot as plt\n",
    "import numpy as np\n",
    "import json\n",
    "import random\n",
    "import nltk\n",
    "from datetime import datetime"
   ]
  },
  {
   "cell_type": "code",
   "execution_count": 3,
   "metadata": {},
   "outputs": [
    {
     "data": {
      "text/plain": [
       "dict"
      ]
     },
     "execution_count": 3,
     "metadata": {},
     "output_type": "execute_result"
    }
   ],
   "source": [
    "# Will read in as a dict\n",
    "with open('reddit_ni_new_data.json') as outfile:\n",
    "    reddit_dict = json.load(outfile)\n",
    "\n",
    "type(reddit_dict) # Checking type"
   ]
  },
  {
   "cell_type": "code",
   "execution_count": 4,
   "metadata": {},
   "outputs": [],
   "source": [
    "# reddit_dict"
   ]
  },
  {
   "cell_type": "code",
   "execution_count": 5,
   "metadata": {},
   "outputs": [],
   "source": [
    "# Get the start and end `created` dates\n",
    "created = reddit_dict['created']\n",
    "created_list = list(created.values())\n",
    "created_start = int(created_list[0])\n",
    "created_end = int(created_list[-1])\n",
    "\n",
    "# Convert from unix time to datetime\n",
    "start_datetime = datetime.fromtimestamp(created_start).strftime('%Y-%m-%d %H:%M:%S')\n",
    "end_datetime = datetime.fromtimestamp(created_end).strftime('%Y-%m-%d %H:%M:%S')"
   ]
  },
  {
   "cell_type": "code",
   "execution_count": 6,
   "metadata": {},
   "outputs": [
    {
     "data": {
      "text/plain": [
       "'2022-06-11 20:01:52'"
      ]
     },
     "execution_count": 6,
     "metadata": {},
     "output_type": "execute_result"
    }
   ],
   "source": [
    "start_datetime"
   ]
  },
  {
   "cell_type": "code",
   "execution_count": 7,
   "metadata": {},
   "outputs": [
    {
     "data": {
      "text/plain": [
       "'2022-06-01 23:11:17'"
      ]
     },
     "execution_count": 7,
     "metadata": {},
     "output_type": "execute_result"
    }
   ],
   "source": [
    "end_datetime"
   ]
  },
  {
   "cell_type": "code",
   "execution_count": 8,
   "metadata": {},
   "outputs": [],
   "source": [
    "reddit_df = pd.DataFrame(reddit_dict)"
   ]
  },
  {
   "cell_type": "code",
   "execution_count": 9,
   "metadata": {},
   "outputs": [
    {
     "data": {
      "text/html": [
       "<div>\n",
       "<style scoped>\n",
       "    .dataframe tbody tr th:only-of-type {\n",
       "        vertical-align: middle;\n",
       "    }\n",
       "\n",
       "    .dataframe tbody tr th {\n",
       "        vertical-align: top;\n",
       "    }\n",
       "\n",
       "    .dataframe thead th {\n",
       "        text-align: right;\n",
       "    }\n",
       "</style>\n",
       "<table border=\"1\" class=\"dataframe\">\n",
       "  <thead>\n",
       "    <tr style=\"text-align: right;\">\n",
       "      <th></th>\n",
       "      <th>created</th>\n",
       "      <th>downs</th>\n",
       "      <th>post_author</th>\n",
       "      <th>post_content</th>\n",
       "      <th>post_title</th>\n",
       "      <th>score</th>\n",
       "      <th>subreddit</th>\n",
       "      <th>ups</th>\n",
       "      <th>upvote_ratio</th>\n",
       "      <th>url</th>\n",
       "    </tr>\n",
       "  </thead>\n",
       "  <tbody>\n",
       "    <tr>\n",
       "      <th>0</th>\n",
       "      <td>1.654974e+09</td>\n",
       "      <td>0.0</td>\n",
       "      <td>MoeKara</td>\n",
       "      <td>For context I'm hearing Ben Lowry say the form...</td>\n",
       "      <td>Is it pronounced 'trickle-er' or 'tri-colour'?</td>\n",
       "      <td>3.0</td>\n",
       "      <td>northernireland</td>\n",
       "      <td>3.0</td>\n",
       "      <td>1.00</td>\n",
       "      <td>https://www.reddit.com/r/northernireland/comme...</td>\n",
       "    </tr>\n",
       "    <tr>\n",
       "      <th>1</th>\n",
       "      <td>1.654973e+09</td>\n",
       "      <td>0.0</td>\n",
       "      <td>louthlad86</td>\n",
       "      <td></td>\n",
       "      <td>Cross Community Fleg Seller on Facebook.</td>\n",
       "      <td>3.0</td>\n",
       "      <td>northernireland</td>\n",
       "      <td>3.0</td>\n",
       "      <td>0.80</td>\n",
       "      <td>https://i.redd.it/i7n9boele1591.jpg</td>\n",
       "    </tr>\n",
       "    <tr>\n",
       "      <th>2</th>\n",
       "      <td>1.654972e+09</td>\n",
       "      <td>0.0</td>\n",
       "      <td>Tornadoninja-6531</td>\n",
       "      <td></td>\n",
       "      <td>What if the troubles started again today?</td>\n",
       "      <td>0.0</td>\n",
       "      <td>northernireland</td>\n",
       "      <td>0.0</td>\n",
       "      <td>0.17</td>\n",
       "      <td>https://www.reddit.com/r/northernireland/comme...</td>\n",
       "    </tr>\n",
       "    <tr>\n",
       "      <th>3</th>\n",
       "      <td>1.654971e+09</td>\n",
       "      <td>0.0</td>\n",
       "      <td>Druids</td>\n",
       "      <td>Hi all, I’m sure all of you know the times are...</td>\n",
       "      <td>[Advice] Money is tight, worth getting into De...</td>\n",
       "      <td>1.0</td>\n",
       "      <td>northernireland</td>\n",
       "      <td>1.0</td>\n",
       "      <td>1.00</td>\n",
       "      <td>https://www.reddit.com/r/northernireland/comme...</td>\n",
       "    </tr>\n",
       "    <tr>\n",
       "      <th>4</th>\n",
       "      <td>1.654971e+09</td>\n",
       "      <td>0.0</td>\n",
       "      <td>johnnybear9</td>\n",
       "      <td>So my neighbour's gardener has started cutting...</td>\n",
       "      <td>Cutting half the top of a hedge.</td>\n",
       "      <td>2.0</td>\n",
       "      <td>northernireland</td>\n",
       "      <td>2.0</td>\n",
       "      <td>0.75</td>\n",
       "      <td>https://www.reddit.com/r/northernireland/comme...</td>\n",
       "    </tr>\n",
       "  </tbody>\n",
       "</table>\n",
       "</div>"
      ],
      "text/plain": [
       "        created  downs        post_author  \\\n",
       "0  1.654974e+09    0.0            MoeKara   \n",
       "1  1.654973e+09    0.0         louthlad86   \n",
       "2  1.654972e+09    0.0  Tornadoninja-6531   \n",
       "3  1.654971e+09    0.0             Druids   \n",
       "4  1.654971e+09    0.0        johnnybear9   \n",
       "\n",
       "                                        post_content  \\\n",
       "0  For context I'm hearing Ben Lowry say the form...   \n",
       "1                                                      \n",
       "2                                                      \n",
       "3  Hi all, I’m sure all of you know the times are...   \n",
       "4  So my neighbour's gardener has started cutting...   \n",
       "\n",
       "                                          post_title  score        subreddit  \\\n",
       "0     Is it pronounced 'trickle-er' or 'tri-colour'?    3.0  northernireland   \n",
       "1           Cross Community Fleg Seller on Facebook.    3.0  northernireland   \n",
       "2          What if the troubles started again today?    0.0  northernireland   \n",
       "3  [Advice] Money is tight, worth getting into De...    1.0  northernireland   \n",
       "4                   Cutting half the top of a hedge.    2.0  northernireland   \n",
       "\n",
       "   ups  upvote_ratio                                                url  \n",
       "0  3.0          1.00  https://www.reddit.com/r/northernireland/comme...  \n",
       "1  3.0          0.80                https://i.redd.it/i7n9boele1591.jpg  \n",
       "2  0.0          0.17  https://www.reddit.com/r/northernireland/comme...  \n",
       "3  1.0          1.00  https://www.reddit.com/r/northernireland/comme...  \n",
       "4  2.0          0.75  https://www.reddit.com/r/northernireland/comme...  "
      ]
     },
     "execution_count": 9,
     "metadata": {},
     "output_type": "execute_result"
    }
   ],
   "source": [
    "reddit_df.head()"
   ]
  },
  {
   "cell_type": "code",
   "execution_count": 10,
   "metadata": {},
   "outputs": [
    {
     "data": {
      "text/plain": [
       "(500, 10)"
      ]
     },
     "execution_count": 10,
     "metadata": {},
     "output_type": "execute_result"
    }
   ],
   "source": [
    "reddit_df.shape"
   ]
  },
  {
   "cell_type": "code",
   "execution_count": 11,
   "metadata": {},
   "outputs": [
    {
     "name": "stdout",
     "output_type": "stream",
     "text": [
      "Index(['created', 'downs', 'post_author', 'post_content', 'post_title',\n",
      "       'score', 'subreddit', 'ups', 'upvote_ratio', 'url'],\n",
      "      dtype='object')\n"
     ]
    }
   ],
   "source": [
    "# Get the keys of the dict\n",
    "keys = reddit_df.keys() \n",
    "print(keys)"
   ]
  },
  {
   "cell_type": "markdown",
   "metadata": {},
   "source": [
    "I want to get a list of the individual authors. I'm going to use the `dict`."
   ]
  },
  {
   "cell_type": "code",
   "execution_count": 12,
   "metadata": {},
   "outputs": [
    {
     "data": {
      "text/plain": [
       "361"
      ]
     },
     "execution_count": 12,
     "metadata": {},
     "output_type": "execute_result"
    }
   ],
   "source": [
    "# unique_authors = set(reddit_df['post_author'].values())\n",
    "unique_authors = set(reddit_dict['post_author'].values())\n",
    "len(unique_authors)"
   ]
  },
  {
   "cell_type": "code",
   "execution_count": 13,
   "metadata": {},
   "outputs": [],
   "source": [
    "# Convert set to df\n",
    "unique_authors_df = pd.DataFrame(unique_authors)\n",
    "unique_authors_df.columns = [\"post_author\"]\n",
    "# unique_authors_df"
   ]
  },
  {
   "cell_type": "markdown",
   "metadata": {},
   "source": [
    "Since every post will need a title, we can see how many posts we have but look at the number of titles"
   ]
  },
  {
   "cell_type": "code",
   "execution_count": 14,
   "metadata": {},
   "outputs": [
    {
     "data": {
      "text/plain": [
       "498"
      ]
     },
     "execution_count": 14,
     "metadata": {},
     "output_type": "execute_result"
    }
   ],
   "source": [
    "titles = set(reddit_dict['post_title'].values())\n",
    "len(titles)"
   ]
  },
  {
   "cell_type": "code",
   "execution_count": 15,
   "metadata": {},
   "outputs": [],
   "source": [
    "# titles"
   ]
  },
  {
   "cell_type": "code",
   "execution_count": 16,
   "metadata": {},
   "outputs": [
    {
     "data": {
      "text/plain": [
       "tuple"
      ]
     },
     "execution_count": 16,
     "metadata": {},
     "output_type": "execute_result"
    }
   ],
   "source": [
    "from collections import Counter\n",
    "\n",
    "name_freq = []\n",
    "list_names = ('bob', 'bill', 'jim', 'john', 'bob')\n",
    "\n",
    "for names in list_names:\n",
    "\n",
    "    name_freq.append(names)\n",
    "\n",
    "# print(Counter(name_freq).most_common(3))\n",
    "type(list_names)"
   ]
  },
  {
   "cell_type": "markdown",
   "metadata": {},
   "source": [
    "I would like to know, first off, who has created the most posts in my dataset"
   ]
  },
  {
   "cell_type": "code",
   "execution_count": 17,
   "metadata": {},
   "outputs": [
    {
     "data": {
      "text/plain": [
       "list"
      ]
     },
     "execution_count": 17,
     "metadata": {},
     "output_type": "execute_result"
    }
   ],
   "source": [
    "author_list = []\n",
    "author_list = reddit_df['post_author'].to_list()\n",
    "# author_list = tuple(author_list)\n",
    "type(author_list)"
   ]
  },
  {
   "cell_type": "code",
   "execution_count": 18,
   "metadata": {},
   "outputs": [],
   "source": [
    "from collections import Counter, defaultdict\n",
    "counts = Counter(author_list).most_common()\n",
    "# len(counts)\n",
    "# counts\n",
    "# type(counts)"
   ]
  },
  {
   "cell_type": "code",
   "execution_count": 19,
   "metadata": {},
   "outputs": [],
   "source": [
    "post_df = pd.DataFrame.from_dict(reddit_dict)\n",
    "# post_df.head(10)"
   ]
  },
  {
   "cell_type": "code",
   "execution_count": 20,
   "metadata": {},
   "outputs": [
    {
     "data": {
      "text/html": [
       "<div>\n",
       "<style scoped>\n",
       "    .dataframe tbody tr th:only-of-type {\n",
       "        vertical-align: middle;\n",
       "    }\n",
       "\n",
       "    .dataframe tbody tr th {\n",
       "        vertical-align: top;\n",
       "    }\n",
       "\n",
       "    .dataframe thead th {\n",
       "        text-align: right;\n",
       "    }\n",
       "</style>\n",
       "<table border=\"1\" class=\"dataframe\">\n",
       "  <thead>\n",
       "    <tr style=\"text-align: right;\">\n",
       "      <th></th>\n",
       "      <th>created</th>\n",
       "      <th>downs</th>\n",
       "      <th>post_author</th>\n",
       "      <th>post_content</th>\n",
       "      <th>post_title</th>\n",
       "      <th>score</th>\n",
       "      <th>subreddit</th>\n",
       "      <th>ups</th>\n",
       "      <th>upvote_ratio</th>\n",
       "      <th>url</th>\n",
       "    </tr>\n",
       "  </thead>\n",
       "  <tbody>\n",
       "    <tr>\n",
       "      <th>212</th>\n",
       "      <td>1.654600e+09</td>\n",
       "      <td>0.0</td>\n",
       "      <td>1207travis</td>\n",
       "      <td>Hello all, planning on taking a solo wild camp...</td>\n",
       "      <td>wild camping in NI for beginners</td>\n",
       "      <td>2.0</td>\n",
       "      <td>northernireland</td>\n",
       "      <td>2.0</td>\n",
       "      <td>0.58</td>\n",
       "      <td>https://www.reddit.com/r/northernireland/comme...</td>\n",
       "    </tr>\n",
       "    <tr>\n",
       "      <th>354</th>\n",
       "      <td>1.654354e+09</td>\n",
       "      <td>0.0</td>\n",
       "      <td>123finebyme</td>\n",
       "      <td></td>\n",
       "      <td>Lee Marvin</td>\n",
       "      <td>129.0</td>\n",
       "      <td>northernireland</td>\n",
       "      <td>129.0</td>\n",
       "      <td>0.95</td>\n",
       "      <td>https://i.redd.it/gw27tawf9m391.jpg</td>\n",
       "    </tr>\n",
       "    <tr>\n",
       "      <th>118</th>\n",
       "      <td>1.654764e+09</td>\n",
       "      <td>0.0</td>\n",
       "      <td>1888SEAN</td>\n",
       "      <td></td>\n",
       "      <td>Poster showing solidarity to the 1981 Hunger S...</td>\n",
       "      <td>123.0</td>\n",
       "      <td>northernireland</td>\n",
       "      <td>123.0</td>\n",
       "      <td>0.79</td>\n",
       "      <td>https://i.redd.it/9hrzfmew6k491.jpg</td>\n",
       "    </tr>\n",
       "    <tr>\n",
       "      <th>445</th>\n",
       "      <td>1.654200e+09</td>\n",
       "      <td>0.0</td>\n",
       "      <td>20captainx12</td>\n",
       "      <td></td>\n",
       "      <td>Alright- which one of yis was this</td>\n",
       "      <td>53.0</td>\n",
       "      <td>northernireland</td>\n",
       "      <td>53.0</td>\n",
       "      <td>0.90</td>\n",
       "      <td>https://i.redd.it/2tarw8spk9391.png</td>\n",
       "    </tr>\n",
       "    <tr>\n",
       "      <th>146</th>\n",
       "      <td>1.654707e+09</td>\n",
       "      <td>0.0</td>\n",
       "      <td>3party</td>\n",
       "      <td></td>\n",
       "      <td>NI Protocol: 'Historic low point' if UK unilat...</td>\n",
       "      <td>34.0</td>\n",
       "      <td>northernireland</td>\n",
       "      <td>34.0</td>\n",
       "      <td>0.95</td>\n",
       "      <td>https://www.bbc.co.uk/news/world-europe-61730258</td>\n",
       "    </tr>\n",
       "  </tbody>\n",
       "</table>\n",
       "</div>"
      ],
      "text/plain": [
       "          created  downs   post_author  \\\n",
       "212  1.654600e+09    0.0    1207travis   \n",
       "354  1.654354e+09    0.0   123finebyme   \n",
       "118  1.654764e+09    0.0      1888SEAN   \n",
       "445  1.654200e+09    0.0  20captainx12   \n",
       "146  1.654707e+09    0.0        3party   \n",
       "\n",
       "                                          post_content  \\\n",
       "212  Hello all, planning on taking a solo wild camp...   \n",
       "354                                                      \n",
       "118                                                      \n",
       "445                                                      \n",
       "146                                                      \n",
       "\n",
       "                                            post_title  score  \\\n",
       "212                   wild camping in NI for beginners    2.0   \n",
       "354                                         Lee Marvin  129.0   \n",
       "118  Poster showing solidarity to the 1981 Hunger S...  123.0   \n",
       "445                 Alright- which one of yis was this   53.0   \n",
       "146  NI Protocol: 'Historic low point' if UK unilat...   34.0   \n",
       "\n",
       "           subreddit    ups  upvote_ratio  \\\n",
       "212  northernireland    2.0          0.58   \n",
       "354  northernireland  129.0          0.95   \n",
       "118  northernireland  123.0          0.79   \n",
       "445  northernireland   53.0          0.90   \n",
       "146  northernireland   34.0          0.95   \n",
       "\n",
       "                                                   url  \n",
       "212  https://www.reddit.com/r/northernireland/comme...  \n",
       "354                https://i.redd.it/gw27tawf9m391.jpg  \n",
       "118                https://i.redd.it/9hrzfmew6k491.jpg  \n",
       "445                https://i.redd.it/2tarw8spk9391.png  \n",
       "146   https://www.bbc.co.uk/news/world-europe-61730258  "
      ]
     },
     "execution_count": 20,
     "metadata": {},
     "output_type": "execute_result"
    }
   ],
   "source": [
    "post_df_sorted_by_author = post_df.sort_values(by=\"post_author\", ascending=True)\n",
    "post_df_sorted_by_author.head()\n",
    "\n"
   ]
  },
  {
   "cell_type": "code",
   "execution_count": 21,
   "metadata": {},
   "outputs": [],
   "source": [
    "post_df_sorted_by_upvote = post_df.sort_values(by=\"ups\", ascending=False)\n",
    "# post_df_sorted_by_upvote.head()"
   ]
  },
  {
   "cell_type": "code",
   "execution_count": 22,
   "metadata": {},
   "outputs": [],
   "source": [
    "capt = post_df.loc[post_df.post_author == \"CaptianSpice\"]\n",
    "# capt.head(50)"
   ]
  },
  {
   "cell_type": "code",
   "execution_count": 23,
   "metadata": {},
   "outputs": [
    {
     "data": {
      "text/plain": [
       "1000"
      ]
     },
     "execution_count": 23,
     "metadata": {},
     "output_type": "execute_result"
    }
   ],
   "source": [
    "author_title_df = post_df.loc[:,['post_author','post_title']]\n",
    "author_title_df.size\n",
    "# I'm not sure yet why this is the size it is\n",
    "# author_title_df.head(50)"
   ]
  },
  {
   "cell_type": "code",
   "execution_count": 24,
   "metadata": {},
   "outputs": [],
   "source": [
    "# author_title_df['post_author']"
   ]
  },
  {
   "cell_type": "code",
   "execution_count": 25,
   "metadata": {},
   "outputs": [],
   "source": [
    "# len(author_title_df)"
   ]
  },
  {
   "cell_type": "code",
   "execution_count": 26,
   "metadata": {},
   "outputs": [],
   "source": [
    "# unique_authors_df.columns = [\"post_author\"]\n",
    "res = pd.merge(author_title_df, unique_authors_df, on='post_author', how=\"inner\")\n",
    "# author_title_df.columns\n",
    "# unique_authors_df.columns\n"
   ]
  },
  {
   "cell_type": "code",
   "execution_count": 27,
   "metadata": {},
   "outputs": [],
   "source": [
    "# res.head()"
   ]
  },
  {
   "cell_type": "code",
   "execution_count": 28,
   "metadata": {},
   "outputs": [],
   "source": [
    "# Get the frequency of posters over data period\n",
    "author_post_freq = res['post_author'].value_counts()\n",
    "# author_post_freq"
   ]
  },
  {
   "cell_type": "markdown",
   "metadata": {},
   "source": [
    "The top three posters over the dates I have data for are `CaptianSpice`, `Paddy_Irishman_` and `Tornadoninja-6531`.      \n",
    "\n",
    "First, we will look at `CaptianSpice`"
   ]
  },
  {
   "cell_type": "code",
   "execution_count": 29,
   "metadata": {},
   "outputs": [],
   "source": [
    "# Gather the index values of the posts by CaptainSpice\n",
    "CaptianSpice_post_index = post_df.index[post_df['post_author'] == 'CaptianSpice'].tolist()\n",
    "\n",
    "# type(CaptianSpice_post_index)\n",
    "# len(CaptianSpice_post_index)\n"
   ]
  },
  {
   "cell_type": "code",
   "execution_count": 30,
   "metadata": {},
   "outputs": [],
   "source": [
    "CaptianSpice_title_holder = []\n",
    "for x in range(len(CaptianSpice_post_index)):\n",
    "    capt_res = post_df['post_title'].iloc[int(CaptianSpice_post_index[x])]\n",
    "    CaptianSpice_title_holder.append(capt_res)"
   ]
  },
  {
   "cell_type": "code",
   "execution_count": 31,
   "metadata": {},
   "outputs": [],
   "source": [
    "# CaptianSpice_title_holder"
   ]
  },
  {
   "cell_type": "code",
   "execution_count": 32,
   "metadata": {},
   "outputs": [],
   "source": [
    "CaptianSpice_title_word_freq = Counter(CaptianSpice_title_holder)\n",
    "# CaptianSpice_title_word_freq"
   ]
  },
  {
   "cell_type": "markdown",
   "metadata": {},
   "source": [
    "From the above, I need to split each sentence into workds"
   ]
  },
  {
   "cell_type": "code",
   "execution_count": 33,
   "metadata": {},
   "outputs": [],
   "source": [
    "CaptianSpice_word_bag = ' '.join(CaptianSpice_title_holder).split()\n",
    "# CaptianSpice_word_bag"
   ]
  },
  {
   "cell_type": "code",
   "execution_count": 34,
   "metadata": {},
   "outputs": [],
   "source": [
    "CaptianSpice_title_word_freq = Counter(CaptianSpice_word_bag)\n",
    "# CaptianSpice_title_word_freq.values()"
   ]
  },
  {
   "cell_type": "markdown",
   "metadata": {},
   "source": [
    "Trying a different apprach to getting my sentences into words"
   ]
  },
  {
   "cell_type": "code",
   "execution_count": 35,
   "metadata": {},
   "outputs": [
    {
     "name": "stderr",
     "output_type": "stream",
     "text": [
      "[nltk_data] Downloading package stopwords to\n",
      "[nltk_data]     C:\\Users\\Seán\\AppData\\Roaming\\nltk_data...\n",
      "[nltk_data]   Package stopwords is already up-to-date!\n"
     ]
    }
   ],
   "source": [
    "from nltk.tokenize import word_tokenize\n",
    "from nltk.corpus import stopwords\n",
    "nltk.download('stopwords')\n",
    "stop_words = set(stopwords.words('english'))"
   ]
  },
  {
   "cell_type": "code",
   "execution_count": 36,
   "metadata": {},
   "outputs": [],
   "source": [
    "# word_tokens = word_tokenize(CaptianSpice_title_holder)"
   ]
  },
  {
   "cell_type": "markdown",
   "metadata": {},
   "source": [
    "Nope. Tokenizer didn't work. Now I will try and remove the `stopwords` using a different method"
   ]
  },
  {
   "cell_type": "code",
   "execution_count": 37,
   "metadata": {},
   "outputs": [
    {
     "data": {
      "text/plain": [
       "229"
      ]
     },
     "execution_count": 37,
     "metadata": {},
     "output_type": "execute_result"
    }
   ],
   "source": [
    "CaptianSpice_word_bag_filtered = []\n",
    "\n",
    "for w in CaptianSpice_word_bag:\n",
    "    if w not in stop_words:\n",
    "        CaptianSpice_word_bag_filtered.append(w)\n",
    "len(CaptianSpice_word_bag_filtered)"
   ]
  },
  {
   "cell_type": "code",
   "execution_count": 38,
   "metadata": {},
   "outputs": [
    {
     "data": {
      "image/png": "[encoded data removed]",
      "text/plain": [
       "<Figure size 1440x1440 with 1 Axes>"
      ]
     },
     "metadata": {
      "needs_background": "light"
     },
     "output_type": "display_data"
    }
   ],
   "source": [
    "cs_counted_words = Counter(CaptianSpice_word_bag_filtered)\n",
    "\n",
    "labels, values = zip(*cs_counted_words.items())\n",
    "indexes = np.arange(len(labels))\n",
    "width = 1\n",
    "\n",
    "plt.figure(figsize=(20,20))\n",
    "plt.bar(indexes, values, width)\n",
    "plt.xticks(indexes + width * 0.5, labels)\n",
    "\n",
    "plt.show()"
   ]
  },
  {
   "cell_type": "code",
   "execution_count": 39,
   "metadata": {},
   "outputs": [],
   "source": [
    "# cs_counted_words.values()"
   ]
  },
  {
   "cell_type": "code",
   "execution_count": 40,
   "metadata": {},
   "outputs": [
    {
     "ename": "TypeError",
     "evalue": "'>' not supported between instances of 'builtin_function_or_method' and 'int'",
     "output_type": "error",
     "traceback": [
      "\u001b[1;31m---------------------------------------------------------------------------\u001b[0m",
      "\u001b[1;31mTypeError\u001b[0m                                 Traceback (most recent call last)",
      "\u001b[1;32m<ipython-input-40-9fadd28e0a6b>\u001b[0m in \u001b[0;36m<module>\u001b[1;34m\u001b[0m\n\u001b[0;32m      1\u001b[0m \u001b[0mmeh\u001b[0m \u001b[1;33m=\u001b[0m \u001b[1;33m[\u001b[0m\u001b[1;33m]\u001b[0m\u001b[1;33m\u001b[0m\u001b[1;33m\u001b[0m\u001b[0m\n\u001b[0;32m      2\u001b[0m \u001b[1;32mfor\u001b[0m \u001b[0mx\u001b[0m \u001b[1;32min\u001b[0m \u001b[0mrange\u001b[0m\u001b[1;33m(\u001b[0m\u001b[0mlen\u001b[0m\u001b[1;33m(\u001b[0m\u001b[0mcs_counted_words\u001b[0m\u001b[1;33m.\u001b[0m\u001b[0mvalues\u001b[0m\u001b[1;33m(\u001b[0m\u001b[1;33m)\u001b[0m\u001b[1;33m)\u001b[0m\u001b[1;33m)\u001b[0m\u001b[1;33m:\u001b[0m\u001b[1;33m\u001b[0m\u001b[1;33m\u001b[0m\u001b[0m\n\u001b[1;32m----> 3\u001b[1;33m     \u001b[1;32mif\u001b[0m \u001b[0mcs_counted_words\u001b[0m\u001b[1;33m.\u001b[0m\u001b[0mvalues\u001b[0m \u001b[1;33m>\u001b[0m \u001b[1;36m1\u001b[0m\u001b[1;33m:\u001b[0m\u001b[1;33m\u001b[0m\u001b[1;33m\u001b[0m\u001b[0m\n\u001b[0m\u001b[0;32m      4\u001b[0m         \u001b[0mprint\u001b[0m\u001b[1;33m(\u001b[0m\u001b[0mcs_counted_words\u001b[0m\u001b[1;33m.\u001b[0m\u001b[0mitems\u001b[0m\u001b[1;33m(\u001b[0m\u001b[0mx\u001b[0m\u001b[1;33m)\u001b[0m\u001b[1;33m)\u001b[0m\u001b[1;33m\u001b[0m\u001b[1;33m\u001b[0m\u001b[0m\n",
      "\u001b[1;31mTypeError\u001b[0m: '>' not supported between instances of 'builtin_function_or_method' and 'int'"
     ]
    }
   ],
   "source": [
    "meh = []\n",
    "for x in range(len(cs_counted_words.values())):\n",
    "    if cs_counted_words.values > 1:\n",
    "        print(cs_counted_words.items(x))"
   ]
  },
  {
   "cell_type": "markdown",
   "metadata": {},
   "source": [
    "Now I will try and look at the post content for the authors"
   ]
  },
  {
   "cell_type": "code",
   "execution_count": null,
   "metadata": {},
   "outputs": [],
   "source": [
    "# CaptianSpice post content\n",
    "author_content_df = post_df.loc[:,['post_author','post_content']]\n",
    "# author_content_df"
   ]
  },
  {
   "cell_type": "markdown",
   "metadata": {},
   "source": [
    "We can see that not every post contains content in the post body"
   ]
  },
  {
   "cell_type": "code",
   "execution_count": null,
   "metadata": {},
   "outputs": [],
   "source": [
    "author_content_df.head()"
   ]
  },
  {
   "cell_type": "code",
   "execution_count": null,
   "metadata": {},
   "outputs": [],
   "source": [
    "# Try and get the post contents for CaptianSpice\n",
    "# We already have the post index for the Captian - # Gather the index values of the posts by CaptainSpice -- CaptianSpice_post_index\n",
    "CaptianSpice_content_holder = []\n",
    "for y in range(len(CaptianSpice_post_index)):\n",
    "    CaptianSpice_post_content_df = post_df['post_content'].iloc[int(CaptianSpice_post_index[y])]\n",
    "    CaptianSpice_content_holder.append(CaptianSpice_post_content_df)\n",
    "# CaptianSpice_content_holder"
   ]
  },
  {
   "cell_type": "code",
   "execution_count": null,
   "metadata": {},
   "outputs": [],
   "source": [
    "len(CaptianSpice_title_holder)"
   ]
  },
  {
   "cell_type": "markdown",
   "metadata": {},
   "source": [
    "CaptianSpice has, essentially, posted very little content. Of the 27 posts they have made, only two seem to contain any content in the body of the post, and those tow seem to be related to polls. \n",
    "\n",
    "It may be interesting, for the moment, to focus on `CaptianSpice`."
   ]
  },
  {
   "cell_type": "code",
   "execution_count": null,
   "metadata": {},
   "outputs": [],
   "source": [
    "\"\"\"\n",
    "# random.shuffle(CaptianSpice_title_holder)\n",
    "\n",
    "# from nltk.corpus import stopwords\n",
    "# nltk.download('stopwords')\n",
    "\n",
    "# stop_words = list(stopwords.words('english'))\n",
    "# stop_words\n",
    "\n",
    "# Create stopword list:\n",
    "stopwords = set(stop_words)\n",
    "stopwords.update([\"br\", \"href\"])\n",
    "textt = \" \".join(review for review in CaptianSpice_title_holder)\n",
    "wordcloud = WordCloud(stopwords=stopwords).generate(textt)\n",
    "\"\"\""
   ]
  }
 ],
 "metadata": {
  "interpreter": {
   "hash": "ad2bdc8ecc057115af97d19610ffacc2b4e99fae6737bb82f5d7fb13d2f2c186"
  },
  "kernelspec": {
   "display_name": "Python 3.8.3 ('base')",
   "language": "python",
   "name": "python3"
  },
  "language_info": {
   "codemirror_mode": {
    "name": "ipython",
    "version": 3
   },
   "file_extension": ".py",
   "mimetype": "text/x-python",
   "name": "python",
   "nbconvert_exporter": "python",
   "pygments_lexer": "ipython3",
   "version": "3.8.3"
  },
  "orig_nbformat": 4
 },
 "nbformat": 4,
 "nbformat_minor": 2
}
